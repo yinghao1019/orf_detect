{
 "metadata": {
  "language_info": {
   "codemirror_mode": {
    "name": "ipython",
    "version": 3
   },
   "file_extension": ".py",
   "mimetype": "text/x-python",
   "name": "python",
   "nbconvert_exporter": "python",
   "pygments_lexer": "ipython3",
   "version": "3.7.6-final"
  },
  "orig_nbformat": 2,
  "kernelspec": {
   "name": "python3",
   "display_name": "Python 3.7.6 64-bit ('tensorflow2': conda)",
   "metadata": {
    "interpreter": {
     "hash": "62e764ecc10c17244b1ce462e5ca9fc5bb8309a0219937d5d54125d894e692a5"
    }
   }
  }
 },
 "nbformat": 4,
 "nbformat_minor": 2,
 "cells": [
  {
   "cell_type": "code",
   "execution_count": 28,
   "metadata": {},
   "outputs": [
    {
     "output_type": "execute_result",
     "data": {
      "text/plain": [
       "'D:\\\\acer\\\\Desktop\\\\ORF_detect'"
      ]
     },
     "metadata": {},
     "execution_count": 28
    }
   ],
   "source": [
    "import pyLDAvis\n",
    "import pyLDAvis.gensim as vis\n",
    "import gensim\n",
    "import os\n",
    "os.chdir(r'D:\\acer\\Desktop\\ORF_detect')\n",
    "pyLDAvis.enable_notebook()\n",
    "os.getcwd()"
   ]
  },
  {
   "cell_type": "code",
   "execution_count": 29,
   "metadata": {},
   "outputs": [
    {
     "output_type": "execute_result",
     "data": {
      "text/plain": [
       "[(0,\n",
       "  '0.001*\"DATE\" + 0.001*\"ORG\" + 0.001*\"work\" + 0.000*\"PERSON\" + 0.000*\"student\" + 0.000*\"coding\" + 0.000*\"experience\" + 0.000*\"get\" + 0.000*\"high\" + 0.000*\"end\"'),\n",
       " (1,\n",
       "  '0.002*\"document\" + 0.001*\"perform\" + 0.001*\"ORG\" + 0.001*\"ensure\" + 0.001*\"quality\" + 0.000*\"team\" + 0.000*\"image\" + 0.000*\"type\" + 0.000*\"scan\" + 0.000*\"identify\"'),\n",
       " (2,\n",
       "  '0.002*\"ORG\" + 0.001*\"business\" + 0.001*\"project\" + 0.001*\"experience\" + 0.001*\"DATE\" + 0.001*\"work\" + 0.001*\"team\" + 0.001*\"company\" + 0.001*\"sale\" + 0.001*\"development\"')]"
      ]
     },
     "metadata": {},
     "execution_count": 29
    }
   ],
   "source": [
    "#load Model & data\n",
    "dictionary=gensim.corpora.dictionary.Dictionary.load(r'.\\saved_model\\process_model\\topic_model\\lda_vocab.pkl')\n",
    "corpus=gensim.corpora.mmcorpus.MmCorpus(r'.\\saved_model\\process_model\\topic_model\\lda_corpus.mm')\n",
    "lda = gensim.models.ldamulticore.LdaMulticore.load(r'.\\saved_model\\process_model\\topic_model\\lda_model')\n",
    "lda.show_topics()"
   ]
  },
  {
   "cell_type": "code",
   "execution_count": 30,
   "metadata": {},
   "outputs": [
    {
     "output_type": "error",
     "ename": "AttributeError",
     "evalue": "module 'pyLDAvis' has no attribute 'gensim'",
     "traceback": [
      "\u001b[1;31m---------------------------------------------------------------------------\u001b[0m",
      "\u001b[1;31mAttributeError\u001b[0m                            Traceback (most recent call last)",
      "\u001b[1;32m<ipython-input-30-39e3eba06178>\u001b[0m in \u001b[0;36m<module>\u001b[1;34m\u001b[0m\n\u001b[1;32m----> 1\u001b[1;33m \u001b[0mpyLDAvis\u001b[0m\u001b[1;33m.\u001b[0m\u001b[0mgensim\u001b[0m\u001b[1;33m.\u001b[0m\u001b[0mprepare\u001b[0m\u001b[1;33m(\u001b[0m\u001b[0mlda\u001b[0m\u001b[1;33m,\u001b[0m \u001b[0mcorpus\u001b[0m\u001b[1;33m,\u001b[0m \u001b[0mdictionary\u001b[0m\u001b[1;33m)\u001b[0m\u001b[1;33m\u001b[0m\u001b[1;33m\u001b[0m\u001b[0m\n\u001b[0m",
      "\u001b[1;31mAttributeError\u001b[0m: module 'pyLDAvis' has no attribute 'gensim'"
     ]
    }
   ],
   "source": [
    "vis.prepare(lda, corpus, dictionary)"
   ]
  }
 ]
}